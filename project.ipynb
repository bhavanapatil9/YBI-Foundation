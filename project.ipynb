import pandas as pd
import seaborn as sns
import os
import numpy as np
import matplotlib.pyplot as plt

     

cement = pd.read_csv('https://github.com/ybifoundation/Dataset/raw/main/Concrete%20Compressive%20Strength.csv')
     

cement
     
Cement (kg in a m^3 mixture)	Blast Furnace Slag (kg in a m^3 mixture)	Fly Ash (kg in a m^3 mixture)	Water (kg in a m^3 mixture)	Superplasticizer (kg in a m^3 mixture)	Coarse Aggregate (kg in a m^3 mixture)	Fine Aggregate (kg in a m^3 mixture)	Age (day)	Concrete Compressive Strength(MPa, megapascals)
0	540.0	0.0	0.0	162.0	2.5	1040.0	676.0	28	79.986111
1	540.0	0.0	0.0	162.0	2.5	1055.0	676.0	28	61.887366
2	332.5	142.5	0.0	228.0	0.0	932.0	594.0	270	40.269535
3	332.5	142.5	0.0	228.0	0.0	932.0	594.0	365	41.052780
4	198.6	132.4	0.0	192.0	0.0	978.4	825.5	360	44.296075
...	...	...	...	...	...	...	...	...	...
1025	276.4	116.0	90.3	179.6	8.9	870.1	768.3	28	44.284354
1026	322.2	0.0	115.6	196.0	10.4	817.9	813.4	28	31.178794
1027	148.5	139.4	108.6	192.7	6.1	892.4	780.0	28	23.696601
1028	159.1	186.7	0.0	175.6	11.3	989.6	788.9	28	32.768036
1029	260.9	100.5	78.3	200.6	8.6	864.5	761.5	28	32.401235
1030 rows × 9 columns


cement.info()
     
<class 'pandas.core.frame.DataFrame'>
RangeIndex: 1030 entries, 0 to 1029
Data columns (total 9 columns):
 #   Column                                            Non-Null Count  Dtype  
---  ------                                            --------------  -----  
 0   Cement (kg in a m^3 mixture)                      1030 non-null   float64
 1   Blast Furnace Slag (kg in a m^3 mixture)          1030 non-null   float64
 2   Fly Ash (kg in a m^3 mixture)                     1030 non-null   float64
 3   Water (kg in a m^3 mixture)                       1030 non-null   float64
 4   Superplasticizer (kg in a m^3 mixture)            1030 non-null   float64
 5   Coarse Aggregate (kg in a m^3 mixture)            1030 non-null   float64
 6   Fine Aggregate (kg in a m^3 mixture)              1030 non-null   float64
 7   Age (day)                                         1030 non-null   int64  
 8   Concrete Compressive Strength(MPa, megapascals)   1030 non-null   float64
dtypes: float64(8), int64(1)
memory usage: 72.5 KB

cement.describe()
     
Cement (kg in a m^3 mixture)	Blast Furnace Slag (kg in a m^3 mixture)	Fly Ash (kg in a m^3 mixture)	Water (kg in a m^3 mixture)	Superplasticizer (kg in a m^3 mixture)	Coarse Aggregate (kg in a m^3 mixture)	Fine Aggregate (kg in a m^3 mixture)	Age (day)	Concrete Compressive Strength(MPa, megapascals)
count	1030.000000	1030.000000	1030.000000	1030.000000	1030.000000	1030.000000	1030.000000	1030.000000	1030.000000
mean	281.165631	73.895485	54.187136	181.566359	6.203112	972.918592	773.578883	45.662136	35.817836
std	104.507142	86.279104	63.996469	21.355567	5.973492	77.753818	80.175427	63.169912	16.705679
min	102.000000	0.000000	0.000000	121.750000	0.000000	801.000000	594.000000	1.000000	2.331808
25%	192.375000	0.000000	0.000000	164.900000	0.000000	932.000000	730.950000	7.000000	23.707115
50%	272.900000	22.000000	0.000000	185.000000	6.350000	968.000000	779.510000	28.000000	34.442774
75%	350.000000	142.950000	118.270000	192.000000	10.160000	1029.400000	824.000000	56.000000	46.136287
max	540.000000	359.400000	200.100000	247.000000	32.200000	1145.000000	992.600000	365.000000	82.599225

cement.isnull()
     
Cement (kg in a m^3 mixture)	Blast Furnace Slag (kg in a m^3 mixture)	Fly Ash (kg in a m^3 mixture)	Water (kg in a m^3 mixture)	Superplasticizer (kg in a m^3 mixture)	Coarse Aggregate (kg in a m^3 mixture)	Fine Aggregate (kg in a m^3 mixture)	Age (day)	Concrete Compressive Strength(MPa, megapascals)
0	False	False	False	False	False	False	False	False	False
1	False	False	False	False	False	False	False	False	False
2	False	False	False	False	False	False	False	False	False
3	False	False	False	False	False	False	False	False	False
4	False	False	False	False	False	False	False	False	False
...	...	...	...	...	...	...	...	...	...
1025	False	False	False	False	False	False	False	False	False
1026	False	False	False	False	False	False	False	False	False
1027	False	False	False	False	False	False	False	False	False
1028	False	False	False	False	False	False	False	False	False
1029	False	False	False	False	False	False	False	False	False
1030 rows × 9 columns


cement.isnull().sum()
     
Cement (kg in a m^3 mixture)                        0
Blast Furnace Slag (kg in a m^3 mixture)            0
Fly Ash (kg in a m^3 mixture)                       0
Water (kg in a m^3 mixture)                         0
Superplasticizer (kg in a m^3 mixture)              0
Coarse Aggregate (kg in a m^3 mixture)              0
Fine Aggregate (kg in a m^3 mixture)                0
Age (day)                                           0
Concrete Compressive Strength(MPa, megapascals)     0
dtype: int64

cement.count()
     
Cement (kg in a m^3 mixture)                        1030
Blast Furnace Slag (kg in a m^3 mixture)            1030
Fly Ash (kg in a m^3 mixture)                       1030
Water (kg in a m^3 mixture)                         1030
Superplasticizer (kg in a m^3 mixture)              1030
Coarse Aggregate (kg in a m^3 mixture)              1030
Fine Aggregate (kg in a m^3 mixture)                1030
Age (day)                                           1030
Concrete Compressive Strength(MPa, megapascals)     1030
dtype: int64

cement.nunique()
     
Cement (kg in a m^3 mixture)                        280
Blast Furnace Slag (kg in a m^3 mixture)            187
Fly Ash (kg in a m^3 mixture)                       163
Water (kg in a m^3 mixture)                         205
Superplasticizer (kg in a m^3 mixture)              155
Coarse Aggregate (kg in a m^3 mixture)              284
Fine Aggregate (kg in a m^3 mixture)                304
Age (day)                                            14
Concrete Compressive Strength(MPa, megapascals)     938
dtype: int64

sns.pairplot(cement)
     
<seaborn.axisgrid.PairGrid at 0x7f6d26456040>


cement.columns
     
Index(['Cement (kg in a m^3 mixture)',
       'Blast Furnace Slag (kg in a m^3 mixture)',
       'Fly Ash (kg in a m^3 mixture)', 'Water (kg in a m^3 mixture)',
       'Superplasticizer (kg in a m^3 mixture)',
       'Coarse Aggregate (kg in a m^3 mixture)',
       'Fine Aggregate (kg in a m^3 mixture)', 'Age (day)',
       'Concrete Compressive Strength(MPa, megapascals) '],
      dtype='object')

updated_col_names = ['Cement','Blast Furnace Slag','Fly Ash','Water','Superplasticizer','Coarse Aggregate','Fine Aggregate','Age','Compressive Strength']
     

cement.columns = updated_col_names
     

updated_col_names
     
['Cement',
 'Blast Furnace Slag',
 'Fly Ash',
 'Water',
 'Superplasticizer',
 'Coarse Aggregate',
 'Fine Aggregate',
 'Age',
 'Compressive Strength']

cement.columns
     
Index(['Cement', 'Blast Furnace Slag', 'Fly Ash', 'Water', 'Superplasticizer',
       'Coarse Aggregate', 'Fine Aggregate', 'Age', 'Compressive Strength'],
      dtype='object')

y=cement['Compressive Strength']
     

cols = cement.columns.drop('Compressive Strength')
     

X = cement[cols]
     

from sklearn.model_selection import train_test_split
X_train,X_test,y_train,y_test = train_test_split(X,y,train_size=0.7,random_state=2529)
     

X_train.shape, X_test.shape, y_train.shape, y_test.shape
     
((721, 8), (309, 8), (721,), (309,))

from sklearn.linear_model import LinearRegression 
model=LinearRegression()
     

model.fit(X_train,y_train)
     
LinearRegression()

y_pred=model.predict(X_test)
     

from sklearn.metrics import mean_absolute_error, mean_absolute_percentage_error, mean_squared_error
     

mean_absolute_error(y_test,y_pred)
     
8.683767775410708

mean_absolute_percentage_error(y_test,y_pred)
     
0.3134440184320867

mean_squared_error(y_test,y_pred)
     
120.40313453787677

model.predict([[540,0,0,162,2.5,1040,676,28]])
     
/usr/local/lib/python3.8/dist-packages/sklearn/base.py:450: UserWarning: X does not have valid feature names, but LinearRegression was fitted with feature names
  
array([53.70076652])

cement.columns
     
Index(['Cement', 'Blast Furnace Slag', 'Fly Ash', 'Water', 'Superplasticizer',
       'Coarse Aggregate', 'Fine Aggregate', 'Age', 'Compressive Strength'],
      dtype='object')

X_new = [[['Cement',540],['Blast Furnace Slag',0],['Fly Ash',0],['Water',162],['Superplasticizer',2.5],['Coarse Aggregate',1040],['Fine Aggregate',676],['Age',28]]]
X_new = np.array([540,0,0,162,2.5,1040,676,28]).reshape(-1,8)
X_new.shape
     
(1, 8)

model.predict(X_new)
     
/usr/local/lib/python3.8/dist-packages/sklearn/base.py:450: UserWarning: X does not have valid feature names, but LinearRegression was fitted with feature names
  
array([53.70076652])